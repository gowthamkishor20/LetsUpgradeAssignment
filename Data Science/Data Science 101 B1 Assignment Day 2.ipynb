{
 "cells": [
  {
   "cell_type": "code",
   "execution_count": 9,
   "metadata": {},
   "outputs": [
    {
     "name": "stdout",
     "output_type": "stream",
     "text": [
      "Question 1\n",
      "\n",
      "Enter 10 numbers\n",
      "1\n",
      "2\n",
      "3\n",
      "4\n",
      "5\n",
      "6\n",
      "7\n",
      "8\n",
      "9\n",
      "10\n",
      "[2, 4, 6, 8, 10]\n",
      "\n",
      "---------------------------------------\n",
      "\n"
     ]
    }
   ],
   "source": [
    "print(\"Question 1\\n\")\n",
    "list = []\n",
    "print(\"Enter 10 numbers\")\n",
    "for i in range(10):\n",
    "    a = int(input())\n",
    "    if(a%2==0):\n",
    "        list.append(a)\n",
    "    else:\n",
    "        pass\n",
    "print(list)\n",
    "print(\"\\n---------------------------------------\\n\")"
   ]
  },
  {
   "cell_type": "code",
   "execution_count": 7,
   "metadata": {},
   "outputs": [
    {
     "name": "stdout",
     "output_type": "stream",
     "text": [
      "Question 2 \n",
      "\n",
      "['I', 'A', 'M', 'A', 'L', 'I', 'V', 'E']\n",
      "\n",
      "---------------------------------------\n",
      "\n"
     ]
    }
   ],
   "source": [
    "print(\"Question 2 \\n\")\n",
    "lst = []\n",
    "for i in 'IAMALIVE':\n",
    "    lst.append(i)\n",
    "print(lst)\n",
    "\n",
    "print(\"\\n---------------------------------------\\n\")"
   ]
  },
  {
   "cell_type": "code",
   "execution_count": 37,
   "metadata": {},
   "outputs": [
    {
     "name": "stdout",
     "output_type": "stream",
     "text": [
      "Question 3 \n",
      "\n",
      "Input:8\n",
      "{1: 1, 2: 4, 3: 9, 4: 16, 5: 25, 6: 36, 7: 49, 8: 64}\n",
      "\n",
      "---------------------------------------\n",
      "\n"
     ]
    }
   ],
   "source": [
    "print(\"Question 3 \\n\")\n",
    "n = int(input(\"Input:\"))\n",
    "i=1\n",
    "lst = []\n",
    "lst2 = []\n",
    "\n",
    "while(i<=n):\n",
    "    lst.append(i)\n",
    "    lst2.append(i*i)\n",
    "    dic = dict(dict(zip(lst,lst2)))\n",
    "    i+=1\n",
    "print(dic)\n",
    "print(\"\\n---------------------------------------\\n\")"
   ]
  },
  {
   "cell_type": "code",
   "execution_count": 1,
   "metadata": {},
   "outputs": [
    {
     "name": "stdout",
     "output_type": "stream",
     "text": [
      "Question 4 \n",
      "\n",
      "4\n",
      "UP 5\n",
      "DOWN 3\n",
      "LEFT 3\n",
      "RIGHT 2\n",
      "2\n",
      "\n",
      "---------------------------------------\n",
      "\n"
     ]
    }
   ],
   "source": [
    "print(\"Question 4 \\n\")\n",
    "dic = dict()\n",
    "n = int(input())\n",
    "for i in range(n):\n",
    "    x,y = input().split()\n",
    "    y = int(y)\n",
    "    dic[x] = y\n",
    "a = dic['UP']-dic['DOWN']\n",
    "b = dic['RIGHT']-dic['LEFT']\n",
    "dis = ((a**2)+(b**2))**0.5\n",
    "print(round(dis))\n",
    "print(\"\\n---------------------------------------\\n\")"
   ]
  },
  {
   "cell_type": "code",
   "execution_count": null,
   "metadata": {},
   "outputs": [],
   "source": []
  }
 ],
 "metadata": {
  "kernelspec": {
   "display_name": "Python 3",
   "language": "python",
   "name": "python3"
  },
  "language_info": {
   "codemirror_mode": {
    "name": "ipython",
    "version": 3
   },
   "file_extension": ".py",
   "mimetype": "text/x-python",
   "name": "python",
   "nbconvert_exporter": "python",
   "pygments_lexer": "ipython3",
   "version": "3.8.5"
  }
 },
 "nbformat": 4,
 "nbformat_minor": 4
}
