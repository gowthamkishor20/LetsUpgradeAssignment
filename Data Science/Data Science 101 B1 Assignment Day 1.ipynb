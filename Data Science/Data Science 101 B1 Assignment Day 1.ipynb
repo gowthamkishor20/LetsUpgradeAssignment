{
 "cells": [
  {
   "cell_type": "code",
   "execution_count": 1,
   "metadata": {},
   "outputs": [
    {
     "name": "stdout",
     "output_type": "stream",
     "text": [
      "Question 1\n",
      "\n",
      "Given the following jumbled word OBANWRI guess the correct English word.\n",
      "A. RANIBOW\n",
      "B. RAINBOW\n",
      "C. BOWRANI\n",
      "D. ROBWANI\n",
      "ANS: RAINBOW\n",
      "\n",
      "CORRECT ANSWER\n",
      "\n",
      "---------------------------------------\n",
      "\n"
     ]
    }
   ],
   "source": [
    "print(\"Question 1\\n\")\n",
    "jumbled_word = \"OBANWRI\"\n",
    "print(\"Given the following jumbled word \"+ jumbled_word +\" guess the correct English word.\")\n",
    "print(\"A. RANIBOW\\n\"+\"B. RAINBOW\\n\"+\"C. BOWRANI\\n\"+\"D. ROBWANI\")\n",
    "\n",
    "crt_ans = \"RAINBOW\"\n",
    "\n",
    "get_ans = str(input(\"ANS: \"))\n",
    "\n",
    "if (get_ans == crt_ans):\n",
    "    print(\"\\nCORRECT ANSWER\")\n",
    "else:\n",
    "    print(\"IT's WRONG, PLEASE 'TRY AGAIN'\")\n",
    "\n",
    "print(\"\\n---------------------------------------\\n\")"
   ]
  },
  {
   "cell_type": "code",
   "execution_count": 2,
   "metadata": {},
   "outputs": [
    {
     "name": "stdout",
     "output_type": "stream",
     "text": [
      "Question 2\n",
      "\n",
      "LETS UPGRADE\n",
      "\n",
      "---------------------------------------\n",
      "\n"
     ]
    }
   ],
   "source": [
    "print(\"Question 2\\n\")\n",
    "\n",
    "print(\"LETS UPGRADE\")\n",
    "\n",
    "print(\"\\n---------------------------------------\\n\")"
   ]
  },
  {
   "cell_type": "code",
   "execution_count": 1,
   "metadata": {},
   "outputs": [
    {
     "name": "stdout",
     "output_type": "stream",
     "text": [
      "Question 3\n",
      "\n",
      "20\n",
      "30\n",
      "\n",
      "Profit\n",
      "\n",
      "---------------------------------------\n",
      "\n"
     ]
    }
   ],
   "source": [
    "print(\"Question 3\\n\")\n",
    "\n",
    "cost_price = int(input())\n",
    "sell_price = int(input())\n",
    "\n",
    "if(cost_price < sell_price):\n",
    "    print(\"\\nProfit\")\n",
    "elif(cost_price > sell_price):\n",
    "    print(\"\\nLoss\")\n",
    "else:\n",
    "    print(\"\\nNeither\")\n",
    "    \n",
    "print(\"\\n---------------------------------------\\n\")"
   ]
  },
  {
   "cell_type": "code",
   "execution_count": 1,
   "metadata": {},
   "outputs": [
    {
     "name": "stdout",
     "output_type": "stream",
     "text": [
      "Question 4\n",
      "\n",
      "50\n",
      "4000\n",
      "\n",
      "---------------------------------------\n",
      "\n"
     ]
    }
   ],
   "source": [
    "print(\"Question 4\\n\")\n",
    "\n",
    "INR = int(input())\n",
    "EURO = INR*80\n",
    "print(EURO)\n",
    "print(\"\\n---------------------------------------\\n\")"
   ]
  },
  {
   "cell_type": "code",
   "execution_count": null,
   "metadata": {},
   "outputs": [],
   "source": []
  }
 ],
 "metadata": {
  "kernelspec": {
   "display_name": "Python 3",
   "language": "python",
   "name": "python3"
  },
  "language_info": {
   "codemirror_mode": {
    "name": "ipython",
    "version": 3
   },
   "file_extension": ".py",
   "mimetype": "text/x-python",
   "name": "python",
   "nbconvert_exporter": "python",
   "pygments_lexer": "ipython3",
   "version": "3.8.5"
  }
 },
 "nbformat": 4,
 "nbformat_minor": 4
}
