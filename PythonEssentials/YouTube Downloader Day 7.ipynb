{
 "cells": [
  {
   "cell_type": "code",
   "execution_count": 4,
   "metadata": {},
   "outputs": [
    {
     "name": "stdout",
     "output_type": "stream",
     "text": [
      "Video Downloaded\n"
     ]
    },
    {
     "name": "stderr",
     "output_type": "stream",
     "text": [
      "Exception in Tkinter callback\n",
      "Traceback (most recent call last):\n",
      "  File \"C:\\ProgramData\\Anaconda3\\lib\\tkinter\\__init__.py\", line 1705, in __call__\n",
      "    return self.func(*args)\n",
      "  File \"<ipython-input-4-8657b05256c3>\", line 22, in downloadVideo\n",
      "    ytvideo=YouTube(x).streams.filter(progressive=True, file_extension='mp4').order_by('resolution').desc().first()\n",
      "  File \"C:\\ProgramData\\Anaconda3\\lib\\site-packages\\pytube\\__main__.py\", line 88, in __init__\n",
      "    self.video_id = extract.video_id(url)\n",
      "  File \"C:\\ProgramData\\Anaconda3\\lib\\site-packages\\pytube\\extract.py\", line 116, in video_id\n",
      "    return regex_search(r\"(?:v=|\\/)([0-9A-Za-z_-]{11}).*\", url, group=1)\n",
      "  File \"C:\\ProgramData\\Anaconda3\\lib\\site-packages\\pytube\\helpers.py\", line 40, in regex_search\n",
      "    raise RegexMatchError(caller=\"regex_search\", pattern=pattern)\n",
      "pytube.exceptions.RegexMatchError: regex_search: could not find match for (?:v=|\\/)([0-9A-Za-z_-]{11}).*\n"
     ]
    },
    {
     "name": "stdout",
     "output_type": "stream",
     "text": [
      "Video Downloaded\n"
     ]
    }
   ],
   "source": [
    "from pytube import YouTube\n",
    "import os\n",
    "from tkinter import *\n",
    "\n",
    "root=Tk()\n",
    "root.geometry('600x200')\n",
    "root.title('Youtube Video Downloader')\n",
    "\n",
    "\n",
    "Label_1=Label(root,text=\"Paste The YouTube Link Here\", font=(\"bold\",20))\n",
    "Label_1.place(x=100,y=20)\n",
    "\n",
    "\n",
    "mylink=StringVar()\n",
    "\n",
    "pastelink=Entry(root, width=60, textvariable=mylink)\n",
    "pastelink.place(x=100, y=80)\n",
    "\n",
    "\n",
    "def downloadVideo():\n",
    "    x=str(mylink.get())\n",
    "    ytvideo=YouTube(x).streams.filter(progressive=True, file_extension='mp4').order_by('resolution').desc().first()\n",
    "    if not os.path.exists(r'C:\\Users\\gk\\Downloads\\YouTube'):\n",
    "        os.makedirs(r'C:\\Users\\gk\\Downloads\\YouTube')\n",
    "    ytvideo.download(r'C:\\Users\\gk\\Downloads\\YouTube')\n",
    "    print(\"Video Downloaded\")\n",
    "\n",
    "Button(root,text=\"Download Video\", width=25, bg='red',fg=\"white\", command=downloadVideo).place(x=191, y=125)\n",
    "\n",
    "root.mainloop()"
   ]
  },
  {
   "cell_type": "code",
   "execution_count": null,
   "metadata": {},
   "outputs": [],
   "source": []
  }
 ],
 "metadata": {
  "kernelspec": {
   "display_name": "Python 3",
   "language": "python",
   "name": "python3"
  },
  "language_info": {
   "codemirror_mode": {
    "name": "ipython",
    "version": 3
   },
   "file_extension": ".py",
   "mimetype": "text/x-python",
   "name": "python",
   "nbconvert_exporter": "python",
   "pygments_lexer": "ipython3",
   "version": "3.7.9"
  }
 },
 "nbformat": 4,
 "nbformat_minor": 4
}
