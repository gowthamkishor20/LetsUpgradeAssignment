{
 "cells": [
  {
   "cell_type": "markdown",
   "metadata": {},
   "source": [
    "## Project - CryptoGraphy App"
   ]
  },
  {
   "cell_type": "code",
   "execution_count": 6,
   "metadata": {},
   "outputs": [
    {
     "name": "stdout",
     "output_type": "stream",
     "text": [
      "Welcome to Cryptography App\n",
      "\n",
      "1. Show Your Secret Key on Screen\n",
      "2. Encrypt Text\n",
      "3. Decrypt Text\n",
      "4. Exit \n",
      "\n",
      "Enter Your Choice:\n",
      "1\n",
      "b'Wu_OAX29w6OaXsSuQo5aX036qBORFAJopIcfEDA3vOk='\n",
      "----------------------\n",
      "\n",
      "1. Show Your Secret Key on Screen\n",
      "2. Encrypt Text\n",
      "3. Decrypt Text\n",
      "4. Exit \n",
      "\n",
      "Enter Your Choice:\n",
      "2\n",
      "b'Enter Text To Encrypt: 'LetsUpgrade\n",
      "b'gAAAAABf3awRP2_pvyTe-PUEGntPbktr4q5t2UPbo35pz7XYF43-qiKHbidJFN2md6RfufQ9xR9Y9-hVvmAQ8GhnGeKnpKx-HQ=='\n",
      "----------------------\n",
      "\n",
      "1. Show Your Secret Key on Screen\n",
      "2. Encrypt Text\n",
      "3. Decrypt Text\n",
      "4. Exit \n",
      "\n",
      "Enter Your Choice:\n",
      "3\n",
      "b'Enter Message To Be Decrypted:'gAAAAABf3awRP2_pvyTe-PUEGntPbktr4q5t2UPbo35pz7XYF43-qiKHbidJFN2md6RfufQ9xR9Y9-hVvmAQ8GhnGeKnpKx-HQ==\n",
      "LetsUpgrade\n",
      "----------------------\n",
      "\n",
      "1. Show Your Secret Key on Screen\n",
      "2. Encrypt Text\n",
      "3. Decrypt Text\n",
      "4. Exit \n",
      "\n",
      "Enter Your Choice:\n",
      "4\n"
     ]
    }
   ],
   "source": [
    "from cryptography.fernet import Fernet\n",
    "\n",
    "def generatePassKey():\n",
    "    key= Fernet.generate_key()\n",
    "    keyFile= open(\"PasswordKey.key\",'wb')\n",
    "    keyFile.write(key)\n",
    "    keyFile.close\n",
    "\n",
    "def getMyKey():\n",
    "    keyFile = open(\"PasswordKey.key\",'rb')\n",
    "    key = keyFile.read()\n",
    "    keyFile.close()\n",
    "    return key\n",
    "    \n",
    "def encryptMessage(message_Normal):\n",
    "     key= getMyKey()\n",
    "     k= Fernet(key)\n",
    "     encrypted_Message= k.encrypt(message_Normal)\n",
    "     return encrypted_Message\n",
    "\n",
    "def decryptMessage(message_Secret):\n",
    "     key= getMyKey()\n",
    "     k= Fernet(key)\n",
    "     decrypted_Message= k.decrypt(message_Secret)\n",
    "     return decrypted_Message\n",
    "\n",
    "if __name__ == \"__main__\":\n",
    "    generatePassKey()\n",
    "    \n",
    "    print(\"Welcome to Cryptography App\\n\")\n",
    "    \n",
    "    while True:\n",
    "        print(\"1. Show Your Secret Key on Screen\")\n",
    "        print(\"2. Encrypt Text\")\n",
    "        print(\"3. Decrypt Text\")\n",
    "        print(\"4. Exit \\n\")\n",
    "        choice= int(input(\"Enter Your Choice:\\n\"))\n",
    "    \n",
    "        if choice == 1:\n",
    "            key= getMyKey()\n",
    "            print(key[:])\n",
    "        elif choice == 2:\n",
    "            message= input(b\"Enter Text To Encrypt: \").encode()\n",
    "            emessage= encryptMessage(message)\n",
    "            print(emessage)\n",
    "        elif choice == 3:\n",
    "            enc_message= input(b\"Enter Message To Be Decrypted:\").encode()\n",
    "            dec_message= decryptMessage(enc_message)\n",
    "            print(dec_message.decode())\n",
    "        elif choice == 4:\n",
    "            break\n",
    "        print(\"----------------------\\n\")"
   ]
  },
  {
   "cell_type": "code",
   "execution_count": null,
   "metadata": {},
   "outputs": [],
   "source": []
  }
 ],
 "metadata": {
  "kernelspec": {
   "display_name": "Python 3",
   "language": "python",
   "name": "python3"
  },
  "language_info": {
   "codemirror_mode": {
    "name": "ipython",
    "version": 3
   },
   "file_extension": ".py",
   "mimetype": "text/x-python",
   "name": "python",
   "nbconvert_exporter": "python",
   "pygments_lexer": "ipython3",
   "version": "3.7.9"
  }
 },
 "nbformat": 4,
 "nbformat_minor": 4
}
